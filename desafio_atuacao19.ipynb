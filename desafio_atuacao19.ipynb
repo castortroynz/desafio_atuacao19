{
 "cells": [
  {
   "cell_type": "code",
   "execution_count": 1,
   "metadata": {
    "colab": {},
    "colab_type": "code",
    "id": "bqfYcZ6VzQjk"
   },
   "outputs": [],
   "source": [
    "%matplotlib inline\n",
    "from pathlib import Path\n",
    "import seaborn as sns\n",
    "from fastai.text import *\n",
    "from fastai import __version__"
   ]
  },
  {
   "cell_type": "code",
   "execution_count": 2,
   "metadata": {
    "colab": {
     "base_uri": "https://localhost:8080/",
     "height": 84
    },
    "colab_type": "code",
    "executionInfo": {
     "elapsed": 1453,
     "status": "ok",
     "timestamp": 1564100813123,
     "user": {
      "displayName": "Alysson Nishiyama",
      "photoUrl": "",
      "userId": "10881422084854217376"
     },
     "user_tz": 180
    },
    "id": "1ghB6H6ZbXHI",
    "outputId": "ed4f77e4-40b4-4a71-8c0a-e29b3fa95be0"
   },
   "outputs": [
    {
     "name": "stdout",
     "output_type": "stream",
     "text": [
      "Python version: 3.7.3 (default, Mar 27 2019, 16:54:48) \n",
      "[Clang 4.0.1 (tags/RELEASE_401/final)]\n",
      "seaborn version: 0.9.0\n",
      "fastai version: 1.0.55\n"
     ]
    }
   ],
   "source": [
    "print(\"Python version: {}\". format(sys.version))\n",
    "print(\"seaborn version: {}\". format(sns.__version__))\n",
    "print(\"fastai version: {}\". format(__version__))"
   ]
  },
  {
   "cell_type": "markdown",
   "metadata": {
    "colab_type": "text",
    "id": "liw_428pGqc6"
   },
   "source": [
    "# Preparando os dados"
   ]
  },
  {
   "cell_type": "code",
   "execution_count": 3,
   "metadata": {
    "colab": {},
    "colab_type": "code",
    "id": "GTK1NDCk1yD3"
   },
   "outputs": [],
   "source": [
    "# setando o path para os dados\n",
    "path = Path('./data')"
   ]
  },
  {
   "cell_type": "code",
   "execution_count": 0,
   "metadata": {
    "colab": {},
    "colab_type": "code",
    "id": "YBdHqnWZ990v",
    "scrolled": false
   },
   "outputs": [],
   "source": [
    "df = pd.read_csv(path/'treinamento.csv', encoding = 'ISO-8859-1')"
   ]
  },
  {
   "cell_type": "code",
   "execution_count": 0,
   "metadata": {
    "colab": {
     "base_uri": "https://localhost:8080/",
     "height": 34
    },
    "colab_type": "code",
    "executionInfo": {
     "elapsed": 1473,
     "status": "ok",
     "timestamp": 1564092876973,
     "user": {
      "displayName": "Alysson Nishiyama",
      "photoUrl": "",
      "userId": "10881422084854217376"
     },
     "user_tz": 180
    },
    "id": "4Rxc00u7KRoW",
    "outputId": "2d073599-7b9c-45bb-d8e9-31e309702863"
   },
   "outputs": [
    {
     "data": {
      "text/plain": [
       "(2864, 2)"
      ]
     },
     "execution_count": 11,
     "metadata": {
      "tags": []
     },
     "output_type": "execute_result"
    }
   ],
   "source": [
    "df.shape"
   ]
  },
  {
   "cell_type": "code",
   "execution_count": 0,
   "metadata": {
    "colab": {
     "base_uri": "https://localhost:8080/",
     "height": 68
    },
    "colab_type": "code",
    "executionInfo": {
     "elapsed": 1454,
     "status": "ok",
     "timestamp": 1564092882189,
     "user": {
      "displayName": "Alysson Nishiyama",
      "photoUrl": "",
      "userId": "10881422084854217376"
     },
     "user_tz": 180
    },
    "id": "6P7xMuymbXHU",
    "outputId": "c818db9b-0761-4469-dbc5-2493cf0b2bdc"
   },
   "outputs": [
    {
     "data": {
      "text/plain": [
       "mensagem     0\n",
       "categoria    0\n",
       "dtype: int64"
      ]
     },
     "execution_count": 12,
     "metadata": {
      "tags": []
     },
     "output_type": "execute_result"
    }
   ],
   "source": [
    "df.isnull().sum()"
   ]
  },
  {
   "cell_type": "code",
   "execution_count": 0,
   "metadata": {
    "colab": {
     "base_uri": "https://localhost:8080/",
     "height": 204
    },
    "colab_type": "code",
    "executionInfo": {
     "elapsed": 1860,
     "status": "ok",
     "timestamp": 1564093224007,
     "user": {
      "displayName": "Alysson Nishiyama",
      "photoUrl": "",
      "userId": "10881422084854217376"
     },
     "user_tz": 180
    },
    "id": "k8slBdJZOH9k",
    "outputId": "98778c29-008c-4c53-ec1b-3e9cc7e5a52d"
   },
   "outputs": [
    {
     "data": {
      "text/html": [
       "<div>\n",
       "<style scoped>\n",
       "    .dataframe tbody tr th:only-of-type {\n",
       "        vertical-align: middle;\n",
       "    }\n",
       "\n",
       "    .dataframe tbody tr th {\n",
       "        vertical-align: top;\n",
       "    }\n",
       "\n",
       "    .dataframe thead th {\n",
       "        text-align: right;\n",
       "    }\n",
       "</style>\n",
       "<table border=\"1\" class=\"dataframe\">\n",
       "  <thead>\n",
       "    <tr style=\"text-align: right;\">\n",
       "      <th></th>\n",
       "      <th>mensagem</th>\n",
       "      <th>categoria</th>\n",
       "    </tr>\n",
       "  </thead>\n",
       "  <tbody>\n",
       "    <tr>\n",
       "      <th>0</th>\n",
       "      <td>\"192.168.1.3:1521:f3ipro\" \"192.168.1.3:1521:f3...</td>\n",
       "      <td>outros</td>\n",
       "    </tr>\n",
       "    <tr>\n",
       "      <th>1</th>\n",
       "      <td>Obrigado pela atenção. Atendimento nota dez. V...</td>\n",
       "      <td>elogio</td>\n",
       "    </tr>\n",
       "    <tr>\n",
       "      <th>2</th>\n",
       "      <td>Absurdo. Devolveram meu cheque sem me consulta...</td>\n",
       "      <td>reclamação</td>\n",
       "    </tr>\n",
       "    <tr>\n",
       "      <th>3</th>\n",
       "      <td>Se eu não fizer isso não poderei receber? Poss...</td>\n",
       "      <td>informação</td>\n",
       "    </tr>\n",
       "    <tr>\n",
       "      <th>4</th>\n",
       "      <td>Eu consigo cancelar ?</td>\n",
       "      <td>informação</td>\n",
       "    </tr>\n",
       "  </tbody>\n",
       "</table>\n",
       "</div>"
      ],
      "text/plain": [
       "                                            mensagem   categoria\n",
       "0  \"192.168.1.3:1521:f3ipro\" \"192.168.1.3:1521:f3...      outros\n",
       "1  Obrigado pela atenção. Atendimento nota dez. V...      elogio\n",
       "2  Absurdo. Devolveram meu cheque sem me consulta...  reclamação\n",
       "3  Se eu não fizer isso não poderei receber? Poss...  informação\n",
       "4                              Eu consigo cancelar ?  informação"
      ]
     },
     "execution_count": 21,
     "metadata": {
      "tags": []
     },
     "output_type": "execute_result"
    }
   ],
   "source": [
    "df.head()"
   ]
  },
  {
   "cell_type": "code",
   "execution_count": 0,
   "metadata": {
    "colab": {
     "base_uri": "https://localhost:8080/",
     "height": 102
    },
    "colab_type": "code",
    "executionInfo": {
     "elapsed": 1771,
     "status": "ok",
     "timestamp": 1564092885730,
     "user": {
      "displayName": "Alysson Nishiyama",
      "photoUrl": "",
      "userId": "10881422084854217376"
     },
     "user_tz": 180
    },
    "id": "ppR8mJ4_q1mw",
    "outputId": "96c8f56d-7e4e-43ad-81ba-3fd44b597e4b"
   },
   "outputs": [
    {
     "data": {
      "text/plain": [
       "outros        955\n",
       "informação    791\n",
       "reclamação    773\n",
       "elogio        345\n",
       "Name: categoria, dtype: int64"
      ]
     },
     "execution_count": 13,
     "metadata": {
      "tags": []
     },
     "output_type": "execute_result"
    }
   ],
   "source": [
    "df['categoria'].value_counts()"
   ]
  },
  {
   "cell_type": "code",
   "execution_count": 0,
   "metadata": {
    "colab": {
     "base_uri": "https://localhost:8080/",
     "height": 291
    },
    "colab_type": "code",
    "executionInfo": {
     "elapsed": 1673,
     "status": "ok",
     "timestamp": 1564092889625,
     "user": {
      "displayName": "Alysson Nishiyama",
      "photoUrl": "",
      "userId": "10881422084854217376"
     },
     "user_tz": 180
    },
    "id": "Dd22IyOabXHh",
    "outputId": "9c815fed-fe30-43bd-b178-4f41ea436250",
    "scrolled": true
   },
   "outputs": [
    {
     "data": {
      "image/png": "[encoded data removed]",
      "text/plain": [
       "<Figure size 432x288 with 1 Axes>"
      ]
     },
     "metadata": {
      "tags": []
     },
     "output_type": "display_data"
    }
   ],
   "source": [
    "sns.set(style=\"darkgrid\")\n",
    "ax = sns.countplot(x=\"categoria\", data=df)\n",
    "plt.show()"
   ]
  },
  {
   "cell_type": "code",
   "execution_count": 0,
   "metadata": {
    "colab": {},
    "colab_type": "code",
    "id": "07-J61R4M6Xw"
   },
   "outputs": [],
   "source": [
    "df.to_csv(path/'treinamento_utf-8.csv', encoding = 'utf-8')"
   ]
  },
  {
   "cell_type": "markdown",
   "metadata": {},
   "source": [
    "### Criação de um objeto \"Databunch\" para realizar \"Tokenization\" e \"Numericalization\" dos dados."
   ]
  },
  {
   "cell_type": "code",
   "execution_count": 0,
   "metadata": {
    "colab": {},
    "colab_type": "code",
    "id": "osnfLW3EydXj"
   },
   "outputs": [],
   "source": [
    "data = TextDataBunch.from_csv(path, 'treinamento_utf-8.csv', text_cols='mensagem', label_cols='categoria')"
   ]
  },
  {
   "cell_type": "markdown",
   "metadata": {},
   "source": [
    "### Tokenization"
   ]
  },
  {
   "cell_type": "code",
   "execution_count": 0,
   "metadata": {
    "colab": {
     "base_uri": "https://localhost:8080/",
     "height": 323
    },
    "colab_type": "code",
    "executionInfo": {
     "elapsed": 16610,
     "status": "ok",
     "timestamp": 1564093053832,
     "user": {
      "displayName": "Alysson Nishiyama",
      "photoUrl": "",
      "userId": "10881422084854217376"
     },
     "user_tz": 180
    },
    "id": "MX-z6zajFgOY",
    "outputId": "b891bf6e-fe7b-4f3b-a6e3-e367af3f1cd4"
   },
   "outputs": [
    {
     "data": {
      "text/html": [
       "<table border=\"1\" class=\"dataframe\">\n",
       "  <thead>\n",
       "    <tr style=\"text-align: right;\">\n",
       "      <th>text</th>\n",
       "      <th>target</th>\n",
       "    </tr>\n",
       "  </thead>\n",
       "  <tbody>\n",
       "    <tr>\n",
       "      <td>xxbos xxmaj fiz um saque na minha conta corrente dia 28 / 03 . 10 000 rupias . nao no cartao de credito . xxmaj sim ha um credito na fatura , mas o valor do saque esta sendo xxunk . o valor da fatura xxunk dolares nao bate com o valor das minhas compras . xxmaj minhas compras no exterior : $ xxunk 22 / 03 $ xxunk 25</td>\n",
       "      <td>reclamação</td>\n",
       "    </tr>\n",
       "    <tr>\n",
       "      <td>xxbos xxmaj xxunk ) , xxmaj eu fiz o upgrade numa agência do banco do xxmaj brasil a 20 dias atrás ! xxmaj fiz na agência do xxmaj bom xxmaj jesus do xxmaj tocantins - xxup xxunk ! xxmaj eu estava no xxmaj brasil e xxunk para fazer levar os documentos , foram todos xxunk e a informação que recebi é que em 30 dias ia chegar o cartão da</td>\n",
       "      <td>informação</td>\n",
       "    </tr>\n",
       "    <tr>\n",
       "      <td>xxbos xxmaj pela segunda vez me ofereceram um xxunk capital de giro e para investimento . xxmaj xxunk o faturamento da empresa . xxmaj tenho 6 clinicas de xxunk e mandei de uma delas com faturamento xxunk de xxunk mil reais por ano e me ofereceram um capital de giro de xxunk reais . xxmaj ano passado xxunk 2 xxunk para outras clinicas que xxunk xxunk xxunk mil reais e</td>\n",
       "      <td>reclamação</td>\n",
       "    </tr>\n",
       "    <tr>\n",
       "      <td>xxbos olá tenho um novo problema : xxmaj houve uma compra que eu não reconheço na fatura do cartão e pedi contestação , na qual fui atendido em parte . xxmaj em parte porque xxunk apenas a xxunk parcela e a compra que não reconheço foi feita em duas parcelas . o banco não estornou a 2ª parcela e pelo telefone xxunk 0001 não pude resolver esse problema . xxmaj</td>\n",
       "      <td>informação</td>\n",
       "    </tr>\n",
       "    <tr>\n",
       "      <td>xxbos xxmaj bom dia ! xxmaj fiquei muito feliz por conseguir financiamento imobiliário no xxup bb . xxmaj porém , algo me deixou um pouco xxunk , apesar de ter assinado tantos documentos não fiquei com a xxunk e como havia xxunk p / xxunk achei que a cobrança seria a partir do mês 04 / xxunk em fim eu xxunk . xxmaj ai , como a cobrança foi a</td>\n",
       "      <td>reclamação</td>\n",
       "    </tr>\n",
       "  </tbody>\n",
       "</table>"
      ],
      "text/plain": [
       "<IPython.core.display.HTML object>"
      ]
     },
     "metadata": {
      "tags": []
     },
     "output_type": "display_data"
    }
   ],
   "source": [
    "data.show_batch()"
   ]
  },
  {
   "cell_type": "code",
   "execution_count": 0,
   "metadata": {
    "colab": {
     "base_uri": "https://localhost:8080/",
     "height": 34
    },
    "colab_type": "code",
    "executionInfo": {
     "elapsed": 1447,
     "status": "ok",
     "timestamp": 1564093349211,
     "user": {
      "displayName": "Alysson Nishiyama",
      "photoUrl": "",
      "userId": "10881422084854217376"
     },
     "user_tz": 180
    },
    "id": "TJ6daaIvWNBY",
    "outputId": "2970b5f4-ff8f-49ec-d7eb-c1cbad1d2466"
   },
   "outputs": [
    {
     "data": {
      "text/plain": [
       "Text xxbos xxmaj imposto poupança"
      ]
     },
     "execution_count": 26,
     "metadata": {
      "tags": []
     },
     "output_type": "execute_result"
    }
   ],
   "source": [
    "data.train_ds[0][0]"
   ]
  },
  {
   "cell_type": "markdown",
   "metadata": {},
   "source": [
    "### Numericalization"
   ]
  },
  {
   "cell_type": "code",
   "execution_count": 0,
   "metadata": {
    "colab": {
     "base_uri": "https://localhost:8080/",
     "height": 323
    },
    "colab_type": "code",
    "executionInfo": {
     "elapsed": 1581,
     "status": "ok",
     "timestamp": 1564093323683,
     "user": {
      "displayName": "Alysson Nishiyama",
      "photoUrl": "",
      "userId": "10881422084854217376"
     },
     "user_tz": 180
    },
    "id": "QM7XKCh2CkKW",
    "outputId": "c8a7d077-e9a0-402d-fef4-300c27eef8b0"
   },
   "outputs": [
    {
     "data": {
      "text/plain": [
       "['xxunk',\n",
       " 'xxpad',\n",
       " 'xxbos',\n",
       " 'xxeos',\n",
       " 'xxfld',\n",
       " 'xxmaj',\n",
       " 'xxup',\n",
       " 'xxrep',\n",
       " 'xxwrep',\n",
       " '.',\n",
       " ',',\n",
       " 'de',\n",
       " 'o',\n",
       " 'e',\n",
       " 'a',\n",
       " 'que',\n",
       " 'com',\n",
       " 'do']"
      ]
     },
     "execution_count": 25,
     "metadata": {
      "tags": []
     },
     "output_type": "execute_result"
    }
   ],
   "source": [
    "data.vocab.itos[:18]"
   ]
  },
  {
   "cell_type": "code",
   "execution_count": 0,
   "metadata": {
    "colab": {
     "base_uri": "https://localhost:8080/",
     "height": 34
    },
    "colab_type": "code",
    "executionInfo": {
     "elapsed": 1422,
     "status": "ok",
     "timestamp": 1564093392786,
     "user": {
      "displayName": "Alysson Nishiyama",
      "photoUrl": "",
      "userId": "10881422084854217376"
     },
     "user_tz": 180
    },
    "id": "87FW5EmPOw76",
    "outputId": "42b15994-8aa2-47af-bc71-03b2d895fd59",
    "scrolled": true
   },
   "outputs": [
    {
     "data": {
      "text/plain": [
       "array([  2,   5, 466, 142])"
      ]
     },
     "execution_count": 27,
     "metadata": {
      "tags": []
     },
     "output_type": "execute_result"
    }
   ],
   "source": [
    "data.train_ds[0][0].data[:10]"
   ]
  },
  {
   "cell_type": "markdown",
   "metadata": {},
   "source": [
    "# Modelo de Linguagem"
   ]
  },
  {
   "cell_type": "code",
   "execution_count": 5,
   "metadata": {
    "colab": {},
    "colab_type": "code",
    "id": "BiuiB-AtqQ2a"
   },
   "outputs": [],
   "source": [
    "bs=48"
   ]
  },
  {
   "cell_type": "code",
   "execution_count": 0,
   "metadata": {
    "colab": {},
    "colab_type": "code",
    "id": "7DuJUAC8bXH0"
   },
   "outputs": [],
   "source": [
    "tokenizer = Tokenizer(SpacyTokenizer, 'pt')\n",
    "processor = [TokenizeProcessor(tokenizer=tokenizer), NumericalizeProcessor(max_vocab=30000)]"
   ]
  },
  {
   "cell_type": "markdown",
   "metadata": {},
   "source": [
    "### Criando o DataBunch "
   ]
  },
  {
   "cell_type": "code",
   "execution_count": 0,
   "metadata": {
    "colab": {},
    "colab_type": "code",
    "id": "pLnRblvX6C0R"
   },
   "outputs": [],
   "source": [
    "data_lm = (TextList.from_csv(path, 'treinamento_utf-8.csv', cols='mensagem', processor=processor)           \n",
    "            .split_by_rand_pct(0.1, seed=50)       #We randomly split and keep 10% (10,000 reviews) for validation\n",
    "            .label_for_lm()               #We want to do a language model so we label accordingly\n",
    "            .databunch(bs=bs))\n",
    "data_lm.save('data_lm.pkl')"
   ]
  },
  {
   "cell_type": "code",
   "execution_count": 6,
   "metadata": {
    "colab": {},
    "colab_type": "code",
    "id": "FJf56mEMoSeM"
   },
   "outputs": [],
   "source": [
    "data_lm = load_data(path, 'data_lm.pkl', bs=bs)"
   ]
  },
  {
   "cell_type": "code",
   "execution_count": 10,
   "metadata": {
    "colab": {
     "base_uri": "https://localhost:8080/",
     "height": 279
    },
    "colab_type": "code",
    "executionInfo": {
     "elapsed": 1469,
     "status": "ok",
     "timestamp": 1564100907191,
     "user": {
      "displayName": "Alysson Nishiyama",
      "photoUrl": "",
      "userId": "10881422084854217376"
     },
     "user_tz": 180
    },
    "id": "VL4c9qtCoUUT",
    "outputId": "1ff20a5e-5fab-4260-9b3b-f24fcb5cd8da",
    "scrolled": false
   },
   "outputs": [
    {
     "data": {
      "text/html": [
       "<table border=\"1\" class=\"dataframe\">\n",
       "  <thead>\n",
       "    <tr style=\"text-align: right;\">\n",
       "      <th>idx</th>\n",
       "      <th>text</th>\n",
       "    </tr>\n",
       "  </thead>\n",
       "  <tbody>\n",
       "    <tr>\n",
       "      <td>0</td>\n",
       "      <td>, xxunk , xxmaj xxunk xxmaj xxunk da xxmaj silva xxbos fala com uma pessoa xxbos xxmaj cpf xxunk xxmaj xxunk xxmaj xxunk da xxmaj silva xxmaj xxunk xxunk / xxunk xxbos xxmaj quero agradecer o seu grande profissionalismo ... e sua xxunk e xxunk ajuda . xxmaj vc fez uma grande xxunk na minha xxunk junto a o xxup bb xxbos xxmaj estou chateada pois o dinheiro xxunk ela</td>\n",
       "    </tr>\n",
       "    <tr>\n",
       "      <td>1</td>\n",
       "      <td>e simplesmente xxup nao xxbos xxmaj muito legal esse aplicativo do xxup bb xxbos xxmaj olá gostaria muito de saber a dívida que tenho com vocês pra xxunk xxbos conta digital xxbos conta facil xxbos xxmaj e-mail de vocês xxbos xxmaj xxunk xxmaj francisco xxunk xxbos xxmaj perfeito . xxmaj agradeço . xxbos xxunk xxunk xxbos xxmaj preciso fazer um xxunk para pagar meu cartão de crédito xxbos 05 /</td>\n",
       "    </tr>\n",
       "    <tr>\n",
       "      <td>2</td>\n",
       "      <td>o atendimento xxbos como funciona o consorcio xxbos sou xxunk do banco xxbos xxmaj banco do xxmaj brasil e uma merda ! xxmaj vou xxunk de movimentar aí transferir xxmaj bradesco vou deixar só o dinheiro do crédito imobiliário xxbos xxunk xxbos xxmaj eu xxunk o meu banco . xxbos consorcio de servicos xxbos xxmaj gostaria de um atendimento humano aqui xxbos xxmaj xxunk mas , como cliente , estou</td>\n",
       "    </tr>\n",
       "    <tr>\n",
       "      <td>3</td>\n",
       "      <td>parabens rafael , se puder registrar os elogios fico feliz . xxmaj atendimento xxunk e xxunk muito bom . xxmaj está de parabens . xxbos como xxunk para pedi meu cartão pelo aplicativo xxbos xxmaj não consigo pagar um boleto ! xxbos xxmaj estou muito estressado e nao xxunk isso . xxmaj amanhã será o xxunk dia . xxbos é uma proposta quase xxunk que xxunk o xxunk da xxup</td>\n",
       "    </tr>\n",
       "    <tr>\n",
       "      <td>4</td>\n",
       "      <td>! xxbos xxmaj boa noite ! xxbos xxmaj muito obrigado xxbos servicos xxbos xxmaj primeiramente , não tenho tempo de ir em uma agência mais próxima de minha casa , então preciso está xxunk sobre algumas dúvidas . xxbos xxmaj já estou chateada com vocês . xxmaj até hoje não xxunk os meus xxunk xxunk o seguro de meu carro . xxbos xxmaj xxunk . xxmaj queria te agradecer ,</td>\n",
       "    </tr>\n",
       "  </tbody>\n",
       "</table>"
      ],
      "text/plain": [
       "<IPython.core.display.HTML object>"
      ]
     },
     "metadata": {
      "tags": []
     },
     "output_type": "display_data"
    }
   ],
   "source": [
    "data_lm.show_batch()"
   ]
  },
  {
   "cell_type": "markdown",
   "metadata": {},
   "source": [
    "### Criando o modelo de linguagem\n",
    "\n",
    "A partir de um modelo de linguagem \"pré-treinado\", será criado um modelo customizado para as mensagens."
   ]
  },
  {
   "cell_type": "code",
   "execution_count": 0,
   "metadata": {
    "colab": {},
    "colab_type": "code",
    "id": "SnQ6SM845MAu"
   },
   "outputs": [],
   "source": [
    "# Nomes dos arquivos de modelo e vocabulário pré-treinado\n",
    "pretrained_fnames = ('lm_Pt_Br_30kt_ft', 'itos')\n",
    "learn = language_model_learner(data_lm, AWD_LSTM, pretrained_fnames=pretrained_fnames, drop_mult=0.3)"
   ]
  },
  {
   "cell_type": "code",
   "execution_count": 12,
   "metadata": {
    "colab": {
     "base_uri": "https://localhost:8080/",
     "height": 34
    },
    "colab_type": "code",
    "executionInfo": {
     "elapsed": 30904,
     "status": "ok",
     "timestamp": 1564100946030,
     "user": {
      "displayName": "Alysson Nishiyama",
      "photoUrl": "",
      "userId": "10881422084854217376"
     },
     "user_tz": 180
    },
    "id": "cXgtCLDF69gL",
    "outputId": "a7ed8954-6432-41ea-8a4f-76c9123773eb"
   },
   "outputs": [
    {
     "data": {
      "text/html": [],
      "text/plain": [
       "<IPython.core.display.HTML object>"
      ]
     },
     "metadata": {
      "tags": []
     },
     "output_type": "display_data"
    },
    {
     "name": "stdout",
     "output_type": "stream",
     "text": [
      "LR Finder is complete, type {learner_name}.recorder.plot() to see the graph.\n"
     ]
    }
   ],
   "source": [
    "learn.lr_find()"
   ]
  },
  {
   "cell_type": "code",
   "execution_count": 13,
   "metadata": {
    "colab": {
     "base_uri": "https://localhost:8080/",
     "height": 283
    },
    "colab_type": "code",
    "executionInfo": {
     "elapsed": 1885,
     "status": "ok",
     "timestamp": 1564100952430,
     "user": {
      "displayName": "Alysson Nishiyama",
      "photoUrl": "",
      "userId": "10881422084854217376"
     },
     "user_tz": 180
    },
    "id": "D_LFqdaA9t7V",
    "outputId": "8dc33307-5446-49b4-d029-2532866dd761",
    "scrolled": true
   },
   "outputs": [
    {
     "data": {
      "image/png": "[encoded data removed]",
      "text/plain": [
       "<Figure size 432x288 with 1 Axes>"
      ]
     },
     "metadata": {
      "tags": []
     },
     "output_type": "display_data"
    }
   ],
   "source": [
    "learn.recorder.plot(skip_end=3)"
   ]
  },
  {
   "cell_type": "markdown",
   "metadata": {},
   "source": [
    "### Treinando o modelo "
   ]
  },
  {
   "cell_type": "code",
   "execution_count": 14,
   "metadata": {
    "colab": {
     "base_uri": "https://localhost:8080/",
     "height": 77
    },
    "colab_type": "code",
    "executionInfo": {
     "elapsed": 4745,
     "status": "ok",
     "timestamp": 1564100959401,
     "user": {
      "displayName": "Alysson Nishiyama",
      "photoUrl": "",
      "userId": "10881422084854217376"
     },
     "user_tz": 180
    },
    "id": "OLDbBdlz91wU",
    "outputId": "7c004016-1268-46f4-f098-f229c93d55c1",
    "scrolled": true
   },
   "outputs": [
    {
     "data": {
      "text/html": [
       "<table border=\"1\" class=\"dataframe\">\n",
       "  <thead>\n",
       "    <tr style=\"text-align: left;\">\n",
       "      <th>epoch</th>\n",
       "      <th>train_loss</th>\n",
       "      <th>valid_loss</th>\n",
       "      <th>accuracy</th>\n",
       "      <th>time</th>\n",
       "    </tr>\n",
       "  </thead>\n",
       "  <tbody>\n",
       "    <tr>\n",
       "      <td>0</td>\n",
       "      <td>4.348054</td>\n",
       "      <td>3.637704</td>\n",
       "      <td>0.280060</td>\n",
       "      <td>00:03</td>\n",
       "    </tr>\n",
       "  </tbody>\n",
       "</table>"
      ],
      "text/plain": [
       "<IPython.core.display.HTML object>"
      ]
     },
     "metadata": {
      "tags": []
     },
     "output_type": "display_data"
    }
   ],
   "source": [
    "learn.fit_one_cycle(1, 1e-1, moms=(0.8,0.7))"
   ]
  },
  {
   "cell_type": "code",
   "execution_count": 0,
   "metadata": {
    "colab": {},
    "colab_type": "code",
    "id": "cZEeJDfMbXIa"
   },
   "outputs": [],
   "source": [
    "learn.unfreeze()"
   ]
  },
  {
   "cell_type": "code",
   "execution_count": 16,
   "metadata": {
    "colab": {
     "base_uri": "https://localhost:8080/",
     "height": 343
    },
    "colab_type": "code",
    "executionInfo": {
     "elapsed": 48351,
     "status": "ok",
     "timestamp": 1564101014441,
     "user": {
      "displayName": "Alysson Nishiyama",
      "photoUrl": "",
      "userId": "10881422084854217376"
     },
     "user_tz": 180
    },
    "id": "9oEJX5LpbXId",
    "outputId": "113cb56b-563d-44c1-c415-a22685a5dbb2"
   },
   "outputs": [
    {
     "data": {
      "text/html": [
       "<table border=\"1\" class=\"dataframe\">\n",
       "  <thead>\n",
       "    <tr style=\"text-align: left;\">\n",
       "      <th>epoch</th>\n",
       "      <th>train_loss</th>\n",
       "      <th>valid_loss</th>\n",
       "      <th>accuracy</th>\n",
       "      <th>time</th>\n",
       "    </tr>\n",
       "  </thead>\n",
       "  <tbody>\n",
       "    <tr>\n",
       "      <td>0</td>\n",
       "      <td>3.264577</td>\n",
       "      <td>3.425747</td>\n",
       "      <td>0.312500</td>\n",
       "      <td>00:04</td>\n",
       "    </tr>\n",
       "    <tr>\n",
       "      <td>1</td>\n",
       "      <td>3.071684</td>\n",
       "      <td>3.338325</td>\n",
       "      <td>0.327083</td>\n",
       "      <td>00:04</td>\n",
       "    </tr>\n",
       "    <tr>\n",
       "      <td>2</td>\n",
       "      <td>2.844194</td>\n",
       "      <td>3.219600</td>\n",
       "      <td>0.358036</td>\n",
       "      <td>00:04</td>\n",
       "    </tr>\n",
       "    <tr>\n",
       "      <td>3</td>\n",
       "      <td>2.532441</td>\n",
       "      <td>3.205122</td>\n",
       "      <td>0.384226</td>\n",
       "      <td>00:04</td>\n",
       "    </tr>\n",
       "    <tr>\n",
       "      <td>4</td>\n",
       "      <td>2.192487</td>\n",
       "      <td>3.248363</td>\n",
       "      <td>0.400149</td>\n",
       "      <td>00:04</td>\n",
       "    </tr>\n",
       "    <tr>\n",
       "      <td>5</td>\n",
       "      <td>1.883318</td>\n",
       "      <td>3.306561</td>\n",
       "      <td>0.399702</td>\n",
       "      <td>00:04</td>\n",
       "    </tr>\n",
       "    <tr>\n",
       "      <td>6</td>\n",
       "      <td>1.613788</td>\n",
       "      <td>3.356941</td>\n",
       "      <td>0.407441</td>\n",
       "      <td>00:04</td>\n",
       "    </tr>\n",
       "    <tr>\n",
       "      <td>7</td>\n",
       "      <td>1.398223</td>\n",
       "      <td>3.353197</td>\n",
       "      <td>0.406101</td>\n",
       "      <td>00:04</td>\n",
       "    </tr>\n",
       "    <tr>\n",
       "      <td>8</td>\n",
       "      <td>1.231157</td>\n",
       "      <td>3.368752</td>\n",
       "      <td>0.408482</td>\n",
       "      <td>00:04</td>\n",
       "    </tr>\n",
       "    <tr>\n",
       "      <td>9</td>\n",
       "      <td>1.100690</td>\n",
       "      <td>3.365639</td>\n",
       "      <td>0.406101</td>\n",
       "      <td>00:04</td>\n",
       "    </tr>\n",
       "  </tbody>\n",
       "</table>"
      ],
      "text/plain": [
       "<IPython.core.display.HTML object>"
      ]
     },
     "metadata": {
      "tags": []
     },
     "output_type": "display_data"
    }
   ],
   "source": [
    "learn.fit_one_cycle(10, 1e-2, moms=(0.8,0.7))"
   ]
  },
  {
   "cell_type": "code",
   "execution_count": 0,
   "metadata": {
    "colab": {},
    "colab_type": "code",
    "id": "wkDU6KL2bXIg"
   },
   "outputs": [],
   "source": [
    "learn.save('lm_reviews_ft')"
   ]
  },
  {
   "cell_type": "code",
   "execution_count": 0,
   "metadata": {
    "colab": {},
    "colab_type": "code",
    "id": "-ED9RSGdbXIj"
   },
   "outputs": [],
   "source": [
    "learn.load('lm_reviews_ft');"
   ]
  },
  {
   "cell_type": "markdown",
   "metadata": {},
   "source": [
    "### Testando o modelo\n",
    "\n",
    "Testando as previsões realizadas pelo modelo de próximas palavras de um texto inserido."
   ]
  },
  {
   "cell_type": "code",
   "execution_count": 0,
   "metadata": {
    "colab": {},
    "colab_type": "code",
    "id": "B1cjJKaOnuqE"
   },
   "outputs": [],
   "source": [
    "TEXT = \"Depois de realizar\"\n",
    "N_WORDS = 18"
   ]
  },
  {
   "cell_type": "code",
   "execution_count": 22,
   "metadata": {
    "colab": {
     "base_uri": "https://localhost:8080/",
     "height": 34
    },
    "colab_type": "code",
    "executionInfo": {
     "elapsed": 1398,
     "status": "ok",
     "timestamp": 1564101042254,
     "user": {
      "displayName": "Alysson Nishiyama",
      "photoUrl": "",
      "userId": "10881422084854217376"
     },
     "user_tz": 180
    },
    "id": "X_uM2TEVnz-T",
    "outputId": "f6357747-3d60-4646-bf6c-e3d8ec0a68ba"
   },
   "outputs": [
    {
     "data": {
      "text/plain": [
       "'Depois de realizar a alteração na Conta Corrente , Ma . xxbos Preciso falar com um atendente'"
      ]
     },
     "execution_count": 22,
     "metadata": {
      "tags": []
     },
     "output_type": "execute_result"
    }
   ],
   "source": [
    "learn.predict(TEXT, N_WORDS, temperature=0.75)"
   ]
  },
  {
   "cell_type": "markdown",
   "metadata": {},
   "source": [
    "### Salvando o encoder para utilização no classificador"
   ]
  },
  {
   "cell_type": "code",
   "execution_count": 0,
   "metadata": {
    "colab": {},
    "colab_type": "code",
    "id": "59fbf3xDn8mK"
   },
   "outputs": [],
   "source": [
    "learn.save_encoder('lm_reviews_ft_enc')"
   ]
  },
  {
   "cell_type": "markdown",
   "metadata": {
    "colab_type": "text",
    "id": "liw_428pGqc6"
   },
   "source": [
    "# Classificador"
   ]
  },
  {
   "cell_type": "code",
   "execution_count": 0,
   "metadata": {
    "colab": {},
    "colab_type": "code",
    "id": "Yc5ATPURUx8Z"
   },
   "outputs": [],
   "source": [
    "bs=48"
   ]
  },
  {
   "cell_type": "code",
   "execution_count": 0,
   "metadata": {
    "colab": {},
    "colab_type": "code",
    "id": "RJhWCfZCA_9j"
   },
   "outputs": [],
   "source": [
    "tokenizer = Tokenizer(SpacyTokenizer, 'pt')\n",
    "processor = [TokenizeProcessor(tokenizer=tokenizer), NumericalizeProcessor(max_vocab=30000)]"
   ]
  },
  {
   "cell_type": "code",
   "execution_count": 0,
   "metadata": {
    "colab": {},
    "colab_type": "code",
    "id": "PWG7ONfqrseQ"
   },
   "outputs": [],
   "source": [
    "data_clas = (TextList.from_csv(path, 'treinamento_utf-8.csv', cols='mensagem', vocab=data_lm.vocab, processor=processor)           \n",
    "            .split_by_rand_pct(0.1, seed=50)       #Dividindo randomicamente o dataset em 10% para validação\n",
    "            .label_from_df(cols='categoria')       #Setando a coluna de label \n",
    "            .databunch(bs=bs))\n",
    "data_clas.save('data_clas.pkl')"
   ]
  },
  {
   "cell_type": "code",
   "execution_count": 7,
   "metadata": {
    "colab": {},
    "colab_type": "code",
    "id": "Tl84UVxBs_05"
   },
   "outputs": [],
   "source": [
    "data_clas = load_data(path, 'data_clas.pkl', bs=bs)"
   ]
  },
  {
   "cell_type": "code",
   "execution_count": 79,
   "metadata": {
    "colab": {
     "base_uri": "https://localhost:8080/",
     "height": 279
    },
    "colab_type": "code",
    "executionInfo": {
     "elapsed": 1450,
     "status": "ok",
     "timestamp": 1564101875349,
     "user": {
      "displayName": "Alysson Nishiyama",
      "photoUrl": "",
      "userId": "10881422084854217376"
     },
     "user_tz": 180
    },
    "id": "bEUcysB0tDyj",
    "outputId": "a380202e-b3e0-438e-81be-668f72841509"
   },
   "outputs": [
    {
     "data": {
      "text/html": [
       "<table border=\"1\" class=\"dataframe\">\n",
       "  <thead>\n",
       "    <tr style=\"text-align: right;\">\n",
       "      <th>text</th>\n",
       "      <th>target</th>\n",
       "    </tr>\n",
       "  </thead>\n",
       "  <tbody>\n",
       "    <tr>\n",
       "      <td>xxbos xxmaj bom dia . xxmaj gostaria de obter a informação xxunk , pois cada vez a atendente no xxup bb da agencia xxunk , da xxmaj xxunk xxmaj xxunk xxmaj lima , diz uma coisa diferente . xxmaj estou xxunk fora do xxmaj brasil , e preciso dos extratos do segundo xxunk dos anos xxunk , 13 e 14 da conta corrente xxunk xxunk da minha empresa , xxmaj</td>\n",
       "      <td>informação</td>\n",
       "    </tr>\n",
       "    <tr>\n",
       "      <td>xxbos xxmaj pela segunda vez me ofereceram um fco capital de giro e para investimento . xxmaj solicitaram o faturamento da empresa . xxmaj tenho 6 clinicas de radiologia e mandei de uma d elas com faturamento contabil de 900 mil reais por ano e me ofereceram um capital de giro de 15mil reais . xxmaj ano passado compramos 2 equipamentos para outras clinicas que juntos somaram 500 mil reais</td>\n",
       "      <td>informação</td>\n",
       "    </tr>\n",
       "    <tr>\n",
       "      <td>xxbos xxmaj pela segunda vez me ofereceram um fco capital de giro e para investimento . xxmaj solicitaram o faturamento da empresa . xxmaj tenho 6 clinicas de radiologia e mandei de uma d elas com faturamento contabil de 900 mil reais por ano e me ofereceram um capital de giro de 15mil reais . xxmaj ano passado compramos 2 equipamentos para outras clinicas que juntos somaram 500 mil reais</td>\n",
       "      <td>informação</td>\n",
       "    </tr>\n",
       "    <tr>\n",
       "      <td>xxbos xxmaj fiz um saque na minha conta corrente dia 28 / 03 . e nao no cartao de credito . xxmaj sim ha um credito na fatura , mas quando xxunk o valor total nao bate com as compras que fiz . o valor da fatura 277 dolares nao bate com o valor das minhas compras ( esta xxunk o saque xxunk ? ) xxmaj minhas compras no exterior</td>\n",
       "      <td>informação</td>\n",
       "    </tr>\n",
       "    <tr>\n",
       "      <td>xxbos xxmaj xxunk ) , xxmaj eu fiz o xxunk xxunk agência do banco do xxmaj brasil a 20 dias atrás ! xxmaj fiz na agência do xxmaj bom xxmaj jesus do xxunk ! xxmaj eu estava no xxmaj brasil e xxunk para fazer levar os documentos , foram todos xxunk e a informação que recebi é que em 30 dias ia xxunk o cartão da conta corrente . é</td>\n",
       "      <td>informação</td>\n",
       "    </tr>\n",
       "  </tbody>\n",
       "</table>"
      ],
      "text/plain": [
       "<IPython.core.display.HTML object>"
      ]
     },
     "metadata": {
      "tags": []
     },
     "output_type": "display_data"
    }
   ],
   "source": [
    "data_clas.show_batch()"
   ]
  },
  {
   "cell_type": "markdown",
   "metadata": {},
   "source": [
    "### Criando o modelo\n",
    "\n",
    "Criando o modelo para classificação das mensagens e carregando o encoder salvo anteriormente."
   ]
  },
  {
   "cell_type": "code",
   "execution_count": 39,
   "metadata": {
    "colab": {},
    "colab_type": "code",
    "id": "rvTXKVPgSmXu"
   },
   "outputs": [],
   "source": [
    "wgts_fname = path/'models'/'lm_Pt_Br_30kt_ft.pth'\n",
    "itos_fname = path/'models'/'itos.pkl'\n",
    "\n",
    "model = get_text_classifier(AWD_LSTM, len(data_clas.vocab.itos), data_clas.c, drop_mult=0.5)\n",
    "learn = RNNLearner(data_clas, model, split_func=awd_lstm_clas_split) \n",
    "learn.load_pretrained(wgts_fname, itos_fname, strict=False)\n",
    "learn.freeze()"
   ]
  },
  {
   "cell_type": "code",
   "execution_count": 40,
   "metadata": {
    "colab": {},
    "colab_type": "code",
    "id": "YeLIAkSItwVz"
   },
   "outputs": [],
   "source": [
    "learn.load_encoder('lm_reviews_ft_enc')"
   ]
  },
  {
   "cell_type": "code",
   "execution_count": 20,
   "metadata": {
    "colab": {
     "base_uri": "https://localhost:8080/",
     "height": 34
    },
    "colab_type": "code",
    "executionInfo": {
     "elapsed": 7156,
     "status": "ok",
     "timestamp": 1564102875764,
     "user": {
      "displayName": "Alysson Nishiyama",
      "photoUrl": "",
      "userId": "10881422084854217376"
     },
     "user_tz": 180
    },
    "id": "0_sGD7L3EMjG",
    "outputId": "48b440ca-02c5-4b9c-a592-4d9d7fb107fa"
   },
   "outputs": [
    {
     "data": {
      "text/html": [],
      "text/plain": [
       "<IPython.core.display.HTML object>"
      ]
     },
     "metadata": {},
     "output_type": "display_data"
    },
    {
     "name": "stdout",
     "output_type": "stream",
     "text": [
      "LR Finder is complete, type {learner_name}.recorder.plot() to see the graph.\n"
     ]
    }
   ],
   "source": [
    "learn.lr_find()"
   ]
  },
  {
   "cell_type": "code",
   "execution_count": 21,
   "metadata": {
    "colab": {
     "base_uri": "https://localhost:8080/",
     "height": 283
    },
    "colab_type": "code",
    "executionInfo": {
     "elapsed": 1937,
     "status": "ok",
     "timestamp": 1564102878726,
     "user": {
      "displayName": "Alysson Nishiyama",
      "photoUrl": "",
      "userId": "10881422084854217376"
     },
     "user_tz": 180
    },
    "id": "1YHi-2fLESZA",
    "outputId": "f382e2fc-b7f4-40a9-b1b7-feb7b3718649"
   },
   "outputs": [
    {
     "data": {
      "image/png": "[encoded data removed]",
      "text/plain": [
       "<Figure size 432x288 with 1 Axes>"
      ]
     },
     "metadata": {
      "needs_background": "light"
     },
     "output_type": "display_data"
    }
   ],
   "source": [
    "learn.recorder.plot()"
   ]
  },
  {
   "cell_type": "code",
   "execution_count": 22,
   "metadata": {
    "colab": {},
    "colab_type": "code",
    "id": "YcbvInQ9uV8c"
   },
   "outputs": [],
   "source": [
    "lr=2e-2\n",
    "lr *= bs/48"
   ]
  },
  {
   "cell_type": "markdown",
   "metadata": {},
   "source": [
    "### Treinando o modelo"
   ]
  },
  {
   "cell_type": "code",
   "execution_count": 23,
   "metadata": {
    "colab": {
     "base_uri": "https://localhost:8080/",
     "height": 106
    },
    "colab_type": "code",
    "executionInfo": {
     "elapsed": 8092,
     "status": "ok",
     "timestamp": 1564102896902,
     "user": {
      "displayName": "Alysson Nishiyama",
      "photoUrl": "",
      "userId": "10881422084854217376"
     },
     "user_tz": 180
    },
    "id": "exdCEJuAEVP4",
    "outputId": "ab4c79c8-12a3-4440-901e-ea8ee7f554c1"
   },
   "outputs": [
    {
     "data": {
      "text/html": [
       "<table border=\"1\" class=\"dataframe\">\n",
       "  <thead>\n",
       "    <tr style=\"text-align: left;\">\n",
       "      <th>epoch</th>\n",
       "      <th>train_loss</th>\n",
       "      <th>valid_loss</th>\n",
       "      <th>accuracy</th>\n",
       "      <th>time</th>\n",
       "    </tr>\n",
       "  </thead>\n",
       "  <tbody>\n",
       "    <tr>\n",
       "      <td>0</td>\n",
       "      <td>0.833085</td>\n",
       "      <td>0.378235</td>\n",
       "      <td>0.849650</td>\n",
       "      <td>00:49</td>\n",
       "    </tr>\n",
       "    <tr>\n",
       "      <td>1</td>\n",
       "      <td>0.736656</td>\n",
       "      <td>0.404634</td>\n",
       "      <td>0.835664</td>\n",
       "      <td>00:48</td>\n",
       "    </tr>\n",
       "  </tbody>\n",
       "</table>"
      ],
      "text/plain": [
       "<IPython.core.display.HTML object>"
      ]
     },
     "metadata": {},
     "output_type": "display_data"
    }
   ],
   "source": [
    "learn.fit_one_cycle(2, lr, moms=(0.8,0.7))"
   ]
  },
  {
   "cell_type": "code",
   "execution_count": 24,
   "metadata": {
    "colab": {
     "base_uri": "https://localhost:8080/",
     "height": 106
    },
    "colab_type": "code",
    "executionInfo": {
     "elapsed": 9499,
     "status": "ok",
     "timestamp": 1564102922498,
     "user": {
      "displayName": "Alysson Nishiyama",
      "photoUrl": "",
      "userId": "10881422084854217376"
     },
     "user_tz": 180
    },
    "id": "t8LVl4RGFpc6",
    "outputId": "67ac23dd-7361-4ca8-fd28-1d5c64a57c47"
   },
   "outputs": [
    {
     "data": {
      "text/html": [
       "<table border=\"1\" class=\"dataframe\">\n",
       "  <thead>\n",
       "    <tr style=\"text-align: left;\">\n",
       "      <th>epoch</th>\n",
       "      <th>train_loss</th>\n",
       "      <th>valid_loss</th>\n",
       "      <th>accuracy</th>\n",
       "      <th>time</th>\n",
       "    </tr>\n",
       "  </thead>\n",
       "  <tbody>\n",
       "    <tr>\n",
       "      <td>0</td>\n",
       "      <td>0.648618</td>\n",
       "      <td>0.320185</td>\n",
       "      <td>0.884615</td>\n",
       "      <td>01:25</td>\n",
       "    </tr>\n",
       "    <tr>\n",
       "      <td>1</td>\n",
       "      <td>0.523523</td>\n",
       "      <td>0.303552</td>\n",
       "      <td>0.891608</td>\n",
       "      <td>01:34</td>\n",
       "    </tr>\n",
       "  </tbody>\n",
       "</table>"
      ],
      "text/plain": [
       "<IPython.core.display.HTML object>"
      ]
     },
     "metadata": {},
     "output_type": "display_data"
    }
   ],
   "source": [
    "learn.freeze_to(-2)\n",
    "learn.fit_one_cycle(2, slice(lr/(2.6**4),lr), moms=(0.8,0.7))"
   ]
  },
  {
   "cell_type": "code",
   "execution_count": 27,
   "metadata": {
    "colab": {
     "base_uri": "https://localhost:8080/",
     "height": 106
    },
    "colab_type": "code",
    "executionInfo": {
     "elapsed": 13916,
     "status": "ok",
     "timestamp": 1564102940552,
     "user": {
      "displayName": "Alysson Nishiyama",
      "photoUrl": "",
      "userId": "10881422084854217376"
     },
     "user_tz": 180
    },
    "id": "w3nCgnbpF1JI",
    "outputId": "83cf4e65-3d92-4a92-e823-caa8a9d109f0"
   },
   "outputs": [
    {
     "data": {
      "text/html": [
       "<table border=\"1\" class=\"dataframe\">\n",
       "  <thead>\n",
       "    <tr style=\"text-align: left;\">\n",
       "      <th>epoch</th>\n",
       "      <th>train_loss</th>\n",
       "      <th>valid_loss</th>\n",
       "      <th>accuracy</th>\n",
       "      <th>time</th>\n",
       "    </tr>\n",
       "  </thead>\n",
       "  <tbody>\n",
       "    <tr>\n",
       "      <td>0</td>\n",
       "      <td>0.456644</td>\n",
       "      <td>0.304044</td>\n",
       "      <td>0.891608</td>\n",
       "      <td>02:56</td>\n",
       "    </tr>\n",
       "    <tr>\n",
       "      <td>1</td>\n",
       "      <td>0.386445</td>\n",
       "      <td>0.295128</td>\n",
       "      <td>0.902098</td>\n",
       "      <td>02:46</td>\n",
       "    </tr>\n",
       "  </tbody>\n",
       "</table>"
      ],
      "text/plain": [
       "<IPython.core.display.HTML object>"
      ]
     },
     "metadata": {},
     "output_type": "display_data"
    }
   ],
   "source": [
    "learn.freeze_to(-3)\n",
    "learn.fit_one_cycle(2, slice(lr/2/(2.6**4),lr/2), moms=(0.8,0.7))"
   ]
  },
  {
   "cell_type": "code",
   "execution_count": 42,
   "metadata": {
    "colab": {
     "base_uri": "https://localhost:8080/",
     "height": 136
    },
    "colab_type": "code",
    "executionInfo": {
     "elapsed": 25603,
     "status": "ok",
     "timestamp": 1564102967602,
     "user": {
      "displayName": "Alysson Nishiyama",
      "photoUrl": "",
      "userId": "10881422084854217376"
     },
     "user_tz": 180
    },
    "id": "KyUNXRn3F-UM",
    "outputId": "8158d816-aca9-496f-d4d9-f6269c1998d5"
   },
   "outputs": [
    {
     "data": {
      "text/html": [
       "<table border=\"1\" class=\"dataframe\">\n",
       "  <thead>\n",
       "    <tr style=\"text-align: left;\">\n",
       "      <th>epoch</th>\n",
       "      <th>train_loss</th>\n",
       "      <th>valid_loss</th>\n",
       "      <th>accuracy</th>\n",
       "      <th>time</th>\n",
       "    </tr>\n",
       "  </thead>\n",
       "  <tbody>\n",
       "    <tr>\n",
       "      <td>0</td>\n",
       "      <td>0.314183</td>\n",
       "      <td>0.304170</td>\n",
       "      <td>0.912587</td>\n",
       "      <td>04:20</td>\n",
       "    </tr>\n",
       "  </tbody>\n",
       "</table>"
      ],
      "text/plain": [
       "<IPython.core.display.HTML object>"
      ]
     },
     "metadata": {},
     "output_type": "display_data"
    }
   ],
   "source": [
    "learn.unfreeze()\n",
    "learn.fit_one_cycle(1, slice(lr/10/(2.6**4),lr/10), moms=(0.8,0.7))"
   ]
  },
  {
   "cell_type": "markdown",
   "metadata": {},
   "source": [
    "#### Salvando o modelo com acurácia de 91%."
   ]
  },
  {
   "cell_type": "code",
   "execution_count": 43,
   "metadata": {
    "colab": {},
    "colab_type": "code",
    "id": "GCRPFfm6Q_qk"
   },
   "outputs": [],
   "source": [
    "learn.save('clas_reviews_ft')"
   ]
  },
  {
   "cell_type": "markdown",
   "metadata": {},
   "source": [
    "### Testando o modelo \n",
    "\n",
    "Testando a classificação realizada pelo modelo de uma mensagem inserida. "
   ]
  },
  {
   "cell_type": "code",
   "execution_count": 48,
   "metadata": {
    "colab": {
     "base_uri": "https://localhost:8080/",
     "height": 34
    },
    "colab_type": "code",
    "executionInfo": {
     "elapsed": 1508,
     "status": "ok",
     "timestamp": 1564103002546,
     "user": {
      "displayName": "Alysson Nishiyama",
      "photoUrl": "",
      "userId": "10881422084854217376"
     },
     "user_tz": 180
    },
    "id": "U_ZaoIkXGKus",
    "outputId": "1d6bb873-cc9c-476f-9cbb-619cf3fea8f4"
   },
   "outputs": [
    {
     "data": {
      "text/plain": [
       "(Category elogio, tensor(0), tensor([0.5652, 0.0222, 0.0947, 0.3178]))"
      ]
     },
     "execution_count": 48,
     "metadata": {},
     "output_type": "execute_result"
    }
   ],
   "source": [
    "learn.predict(\"O atendimento foi muito bom\")"
   ]
  }
 ],
 "metadata": {
  "accelerator": "GPU",
  "colab": {
   "collapsed_sections": [],
   "name": "sentiment_analysis.ipynb",
   "provenance": [],
   "version": "0.3.2"
  },
  "kernelspec": {
   "display_name": "Python 3",
   "language": "python",
   "name": "python3"
  },
  "language_info": {
   "codemirror_mode": {
    "name": "ipython",
    "version": 3
   },
   "file_extension": ".py",
   "mimetype": "text/x-python",
   "name": "python",
   "nbconvert_exporter": "python",
   "pygments_lexer": "ipython3",
   "version": "3.7.3"
  }
 },
 "nbformat": 4,
 "nbformat_minor": 1
}
